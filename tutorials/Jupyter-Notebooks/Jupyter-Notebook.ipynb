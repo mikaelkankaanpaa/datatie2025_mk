{
 "cells": [
  {
   "cell_type": "markdown",
   "id": "0",
   "metadata": {},
   "source": [
    "# Jupyter Notebook"
   ]
  },
  {
   "cell_type": "markdown",
   "id": "1",
   "metadata": {},
   "source": [
    "## Installing Jupyter Notebook\n",
    "\n",
    "The Jupyter notebooks automatically get installed with the Anaconda distribution. You'll be able to use notebooks from the default environment.\n",
    "\n",
    "If you are using Miniconda, there are multiple ways you can install the Jupyter notebook. You can install Jupyter notebooks in a conda environment using the following commands in your Terminal/Anaconda Prompt:\n",
    "\n",
    "```python\n",
    "conda install jupyter notebook\n",
    "```"
   ]
  },
  {
   "cell_type": "markdown",
   "id": "2",
   "metadata": {},
   "source": [
    "To run the notebook, run the following command at the Terminal (Mac/Linux) or Command Prompt (Windows) / Anaconda Prompt (Windows):\n",
    "\n",
    "```python\n",
    "jupyter notebook\n",
    "```"
   ]
  },
  {
   "cell_type": "markdown",
   "id": "3",
   "metadata": {},
   "source": [
    "## Launching the Notebook Server\n",
    "\n",
    "To start a notebook server using a command-line interface, open the Terminal/Anaconda prompt, and navigate to the directory where you'd like to create notebook files (.ipynb). You can confirm the present working directory using `pwd`.\n",
    "\n",
    "```python\n",
    "cd <directory_path>\n",
    "pwd\n",
    "```"
   ]
  },
  {
   "attachments": {},
   "cell_type": "markdown",
   "id": "4",
   "metadata": {},
   "source": [
    "Next, enter the following command in your terminal/Anaconda prompt\n",
    "\n",
    "```python\n",
    "jupyter notebook\n",
    "```\n",
    "\n",
    "![](Images/running-Jupyter-Notebook.gif)\n",
    "<p style=\"text-align: center;\">\n",
    "    Screenshot of running Jupyter Notebook\n",
    "</p>"
   ]
  },
  {
   "attachments": {},
   "cell_type": "markdown",
   "id": "5",
   "metadata": {},
   "source": [
    "## Notebook Server Walkaround\n",
    "\n",
    "When you run the `jupyter notebook` command (try it yourself!), the server home should open in your browser. By default, the notebook server runs at `http://localhost:8888`. If you aren't familiar with this, `localhost` means your computer and `8888` is the port the server is communicating on. As long as the server is still running, you can always come back to it by going to http://localhost:8888 in your browser.\n",
    "\n",
    "If you start another server, it'll try to use port `8888`, but since it is occupied, the new server will run on port `8889`. Then, you'd connect to it at `http://localhost:8889`. Every additional notebook server will increment the port number like this.\n",
    "\n",
    "If you tried starting your own server, it should look something like this:\n",
    "\n",
    "![](Images/notebook-server.png)\n",
    "<p style=\"text-align: center;\">\n",
    "    Screenshot of jupyter notebook\n",
    "</p>\n",
    "\n",
    "\n",
    "<br>\n",
    "<div class=\"alert alert-info\">\n",
    "<b>NOTE</b> You might see some files and folders in the list here, it depends on where you started the server from.\n",
    "</div> "
   ]
  },
  {
   "attachments": {},
   "cell_type": "markdown",
   "id": "6",
   "metadata": {},
   "source": [
    "## Create a New Notebook\n",
    "Over on the right, you can click on \"New\" to create a new notebook, text file, folder, or terminal. The list under \"Notebooks\" shows the kernels you have installed. Here I'm running the server in a Python 3 environment, so I have a Python 3 kernel available. I've also installed kernels for Scala 2.10 and 2.11 which you see in the list. See [this documentation](https://ipython.readthedocs.io/en/latest/install/kernel_install.html) for how to install kernels if you ever need to do so.\n",
    "\n",
    "\n",
    "![](Images/creating-a-new-notebook.gif)\n",
    "<p style=\"text-align: center;\">\n",
    "    Screenshot of creating a new notebook\n",
    "</p>"
   ]
  },
  {
   "cell_type": "markdown",
   "id": "7",
   "metadata": {},
   "source": [
    "## Jupyter Notebook Server Tabs\n",
    "The tabs at the top show Files, Running, and Cluster. Files shows all the files and folders in the current directory. Clicking on the Running tab will list all the currently running notebooks. From there you can manage them.\n",
    "\n",
    "Clusters previously was where you'd create multiple kernels for use in parallel computing. Now that's been taken over by [ipyparallel](https://ipyparallel.readthedocs.io/en/latest/intro.html) so there isn't much to do there."
   ]
  },
  {
   "attachments": {},
   "cell_type": "markdown",
   "id": "8",
   "metadata": {},
   "source": [
    "## Notebook Conda Package\n",
    "\n",
    "You should consider installing the Notebook Conda package to help manage your environments. Run the following terminal command:\n",
    "\n",
    "```python\n",
    "conda install nb_conda\n",
    "```\n",
    "\n",
    "After successful installation of the `nb_conda` package, if you run the notebook server from a conda environment, you'll also have access to the \"Conda\" tab shown below. Here you can manage your environments from within Jupyter. You can create new environments, install packages, update packages, export environments, and much more.\n",
    "\n",
    "![](Images/conda-tab-in.Jupyter.png)\n",
    "<p style=\"text-align: center;\">\n",
    "    Screenshot of conda tab in Jupyter\n",
    "</p>\n",
    "\n",
    "\n",
    "Additionally, with `nb_conda` installed you will be able to access any of your conda environments when choosing a kernel. For example, the image below shows an example of creating a new notebook on a machine with several different conda environments:\n",
    "\n",
    "\n",
    "![](Images/conda-environments-in-Jupyter.png)\n",
    "<p style=\"text-align: center;\">\n",
    "    Screenshot of conda environments in Jupyter\n",
    "</p>"
   ]
  },
  {
   "attachments": {},
   "cell_type": "markdown",
   "id": "9",
   "metadata": {},
   "source": [
    "## Shutting down Jupyter\n",
    "You can shutdown individual notebooks by marking the checkbox next to the notebook on the server home and clicking \"Shutdown.\" Make sure you've saved your work before you do this though! Any changes since the last time you saved will be lost. You'll also need to rerun the code the next time you run the notebook.\n",
    "\n",
    "![](Images/shutting-down-Jupyter-Notebook.png)\n",
    "<p style=\"text-align: center;\">\n",
    "    Screenshot of shutting down Jupyter Notebook\n",
    "</p>\n",
    "\n",
    "\n",
    "You can shutdown the entire server by pressing `control` + `C` twice in the terminal. Again, this will immediately shutdown all the running notebooks, so make sure your work is saved!\n",
    "\n",
    "\n",
    "![](Images/shutdown.gif)\n",
    "<p style=\"text-align: center;\">\n",
    "    Screenshot of shutting down the server\n",
    "</p>"
   ]
  },
  {
   "attachments": {},
   "cell_type": "markdown",
   "id": "10",
   "metadata": {},
   "source": [
    "## Notebook Interface\n",
    "You can create a new notebook by clicking “new” and then choosing a kernel, such as python3.\n",
    "\n",
    "![](Images/create-a-new-Notebook.png)\n",
    "<p style=\"text-align: center;\">\n",
    "    Screenshot of creating a new Notebook\n",
    "</p>\n",
    "\n",
    "\n",
    "The command above will create a new notebook in a new browser tab, named `Untitled.ipynb`, as shown below:\n",
    "\n",
    "![](Images/new-notebook.png)\n",
    "<p style=\"text-align: center;\">\n",
    "    Screenshot of new notebook\n",
    "</p>\n",
    "\n",
    "Feel free to try this yourself and poke around a bit.\n",
    "\n",
    "![](Images/playing-with-Jupyter-Notebook.gif)\n",
    "<p style=\"text-align: center;\">\n",
    "    Screenshot of playing with Jupyter Notebook\n",
    "</p>"
   ]
  },
  {
   "cell_type": "markdown",
   "id": "11",
   "metadata": {},
   "source": [
    "## The tool bar\n",
    "Elsewhere on the tool bar, starting from the left:\n",
    "\n",
    "- The anachronistic symbol for \"save,\" the floppy disk. Saves the notebook!\n",
    "- The `+` button creates a new cell\n",
    "- Then, buttons to cut, copy, and paste cells.\n",
    "- Run, stop, restart the kernel\n",
    "- Cell type: code, Markdown, raw text, and header\n",
    "- Command palette (see next)\n",
    "- Cell toolbar, gives various options for cells such as using them as slides\n"
   ]
  },
  {
   "attachments": {},
   "cell_type": "markdown",
   "id": "12",
   "metadata": {},
   "source": [
    "## Command palette\n",
    "The little keyboard is the command palette. This will bring up a panel with a search bar where you can search for various commands. This is really helpful for speeding up your workflow as you don't need to search around in the menus with your mouse. Just open the command palette and type in what you want to do. For instance, if you want to merge two cells:\n",
    "\n",
    "\n",
    "\n",
    "![](Images/playing-with-palette.gif)\n",
    "<p style=\"text-align: center;\">\n",
    "    Screenshot of playing with palette\n",
    "</p>"
   ]
  },
  {
   "attachments": {},
   "cell_type": "markdown",
   "id": "13",
   "metadata": {},
   "source": [
    "## More\n",
    "\n",
    "At the top you see the title. Click on this to rename the notebook.\n",
    "\n",
    "Over on the right is the kernel type (Python 3 in my case) and next to it, a little circle. When the kernel is running a cell, it'll fill in. For most operations which run quickly, it won't fill in. It's a little indicator to let you know longer running code is actually running.\n",
    "\n",
    "Along with the save button in the toolbar, notebooks are automatically saved periodically. The most recent save is noted to the right of the title. You can save manually with the save button, or by pressing`escape` then `s` on your keyboard. The `escap` key changes to command mode and `s` is the shortcut for \"save.\" I'll cover command mode and keyboard shortcuts later.\n",
    "\n",
    "In the \"File\" menu, you can download the notebook in multiple formats. You'll often want to download it as an HTML file to share with others who aren't using Jupyter. Also, you can download the notebook as a normal Python file where all the code will run like normal. The [Markdown](https://daringfireball.net/projects/markdown/) and [reST](http://docutils.sourceforge.net/rst.html) formats are great for using notebooks in blogs or documentation.\n",
    "\n",
    "![](Images/downloading-a-Notebook-as-a-Python-file.png)\n",
    "<p style=\"text-align: center;\">\n",
    "    Screenshot of downloading a Notebook a a Python file\n",
    "</p>"
   ]
  }
 ],
 "metadata": {
  "kernelspec": {
   "display_name": "Isaemo",
   "language": "python",
   "name": "isaemo"
  },
  "language_info": {
   "codemirror_mode": {
    "name": "ipython",
    "version": 3
   },
   "file_extension": ".py",
   "mimetype": "text/x-python",
   "name": "python",
   "nbconvert_exporter": "python",
   "pygments_lexer": "ipython3",
   "version": "3.8.8"
  }
 },
 "nbformat": 4,
 "nbformat_minor": 5
}
